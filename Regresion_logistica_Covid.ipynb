{
  "cells": [
    {
      "cell_type": "markdown",
      "source": [
        "# Resumen\n",
        "Se llevó a cabo un estudio utilizando datos de pacientes con COVID-19 en México, donde se desarrolló un modelo de Regresión Logística con el objetivo de predecir si un paciente requiere hospitalización.\n",
        "\n",
        "Dentro del análisis, se aplicaron diversas técnicas para limpiar y asegurar la calidad de los datos, incluyendo la identificación y tratamiento de valores atípicos, así como la imputación de datos faltantes. Además, se implementaron estrategias para mitigar el subajuste y el desbalance de datos.\n",
        "\n",
        "Los resultados mostraron que el modelo de Regresión Logística logró una precisión del 97.69% y una exactitud (accuracy) del 84%, lo que sugiere una solución efectiva para el problema estudiado"
      ],
      "metadata": {
        "id": "SFrZwCHs_t8t"
      },
      "id": "SFrZwCHs_t8t"
    },
    {
      "cell_type": "code",
      "source": [
        "from google.colab import drive\n",
        "\n",
        "drive.mount(\"/content/gdrive\")"
      ],
      "metadata": {
        "colab": {
          "base_uri": "https://localhost:8080/"
        },
        "id": "PI30mku5UtH2",
        "outputId": "59a49b01-f167-45bf-d128-db7433d818b8"
      },
      "id": "PI30mku5UtH2",
      "execution_count": null,
      "outputs": [
        {
          "output_type": "stream",
          "name": "stdout",
          "text": [
            "Mounted at /content/gdrive\n"
          ]
        }
      ]
    },
    {
      "cell_type": "code",
      "execution_count": null,
      "id": "127fdb7d-a075-4989-b688-336fdf086fbb",
      "metadata": {
        "colab": {
          "base_uri": "https://localhost:8080/",
          "height": 38
        },
        "id": "127fdb7d-a075-4989-b688-336fdf086fbb",
        "outputId": "95f58559-61f1-48a5-93f6-4e0b7c727bd8"
      },
      "outputs": [
        {
          "output_type": "display_data",
          "data": {
            "text/html": [
              "        <script type=\"text/javascript\">\n",
              "        window.PlotlyConfig = {MathJaxConfig: 'local'};\n",
              "        if (window.MathJax && window.MathJax.Hub && window.MathJax.Hub.Config) {window.MathJax.Hub.Config({SVG: {font: \"STIX-Web\"}});}\n",
              "        if (typeof require !== 'undefined') {\n",
              "        require.undef(\"plotly\");\n",
              "        requirejs.config({\n",
              "            paths: {\n",
              "                'plotly': ['https://cdn.plot.ly/plotly-2.24.1.min']\n",
              "            }\n",
              "        });\n",
              "        require(['plotly'], function(Plotly) {\n",
              "            window._Plotly = Plotly;\n",
              "        });\n",
              "        }\n",
              "        </script>\n",
              "        "
            ]
          },
          "metadata": {}
        }
      ],
      "source": [
        "import pickle\n",
        "import pandas as pd\n",
        "import numpy as np\n",
        "\n",
        "import cufflinks as cf\n",
        "import matplotlib.pyplot as plt\n",
        "import missingno as msno\n",
        "from plotly.offline import plot, iplot\n",
        "import plotly.graph_objects as go\n",
        "import plotly.express as px\n",
        "#import chart_studio.plotly as py\n",
        "cf.go_offline()\n",
        "\n",
        "from  functools import reduce\n",
        "from scipy import stats\n",
        "from scipy.stats import shapiro\n",
        "from scipy.stats import zscore\n",
        "from scipy.stats import chisquare\n",
        "from scipy.stats import ksone\n",
        "import statsmodels.api as sm\n",
        "\n",
        "import seaborn as sns\n",
        "\n",
        "from sklearn.model_selection import train_test_split\n",
        "from sklearn.impute import SimpleImputer\n",
        "from sklearn.compose import ColumnTransformer\n",
        "from sklearn.preprocessing import StandardScaler, OneHotEncoder, PowerTransformer\n",
        "from sklearn.impute import SimpleImputer\n",
        "from sklearn.linear_model import LogisticRegression\n",
        "from sklearn.metrics import confusion_matrix, accuracy_score, precision_score, recall_score, roc_auc_score\n",
        "from sklearn.model_selection import  KFold, RepeatedKFold, cross_val_score\n",
        "from imblearn.under_sampling import RandomUnderSampler\n",
        "\n",
        "import warnings\n",
        "warnings.filterwarnings(\"ignore\")"
      ]
    },
    {
      "cell_type": "code",
      "execution_count": null,
      "id": "be11449a-8841-4dae-9447-7e70f5976950",
      "metadata": {
        "id": "be11449a-8841-4dae-9447-7e70f5976950"
      },
      "outputs": [],
      "source": [
        "## Funciones\n",
        "\n",
        "def rename_cols(df,cols,prefix):\n",
        "    new_feats=[prefix+col for col in cols]\n",
        "    df=df.rename(columns=dict(zip(cols,new_feats)))\n",
        "    return df\n",
        "\n",
        "def unitaria(df,col):\n",
        "    result = pd.DataFrame(df[col].value_counts(1))\n",
        "    if result.shape[0]>0:\n",
        "        if (result.values[0] > .91) :\n",
        "            print(f\"{col} -- VARIABLE UNITARIA\")\n",
        "        result = result.map(lambda x : str(round(x*100,2))+\"%\")\n",
        "        result.reset_index(inplace=True)\n",
        "        result.columns = [col+\"_valores\",\"%_aparicion\"]\n",
        "    return result\n",
        "\n",
        "def unitarias(df,col):\n",
        "    result=pd.DataFrame(df[col].value_counts(1))\n",
        "    if result.shape[0]>0:\n",
        "        if (result[col].values[0]>.91) :\n",
        "            print(f\"{col} -- VARIABLE UNITARIA\")\n",
        "\n",
        "def completitud(df):\n",
        "    comp=pd.DataFrame(df.isnull().sum())\n",
        "    comp.reset_index(inplace=True)\n",
        "    comp=comp.rename(columns={\"index\":\"columna\",0:\"total\"})\n",
        "    comp[\"completitud\"]=(1-comp[\"total\"]/df.shape[0])*100\n",
        "    comp=comp.sort_values(by=\"completitud\",ascending=True)\n",
        "    comp.reset_index(drop=True,inplace=True)\n",
        "    return comp\n",
        "\n",
        "def box(df,col,title):\n",
        "    layout = go.Layout(font_family=\"Verdana, monospace\",\n",
        "                       font_color=\"black\",\n",
        "                       title_text=title,\n",
        "                       title_font_size=20,\n",
        "                        xaxis= {\"title\": {\"font\": {\"family\": 'Verdana, monospace',\"size\": 18,\"color\": '#002e4d'}}},\n",
        "                       title_font_family=\"Georgia, monospace\",\n",
        "                       title_font_color=\"#1C5166\",\n",
        "                       template=\"plotly_white\")\n",
        "    fig=df[[col]].iplot(kind='box',title=title,asFigure=True,theme=\"white\",layout=layout,color=\"#3190B5\", boxpoints='outliers')\n",
        "    fig.update_traces(opacity=0.90)\n",
        "    return fig\n",
        "\n",
        "def pie(df,col,title,x_title=\"\",y_title=\"\"):\n",
        "    layout = go.Layout(template=\"plotly_white\")\n",
        "    colors=[ \"#152337\", \"#183152\",\"#17416d\",\"#005096\",\"#00569c\",\"#005ba3\",\"#0061a9\",\"#1567af\",\"#226cb6\",\"#2c72bc\", \"#0061a9\",\"#4c79b7\",\"#7492c6\",\"#98acd4\",\"#bbc7e2\",\"#dde3f1\",\"#ffffff\"\n",
        "]\n",
        "    aux=pd.DataFrame(df[col].value_counts()).reset_index().rename(columns={\"count\":\"conteo\"})\n",
        "    fig=aux.iplot(kind='pie',labels=col,values=\"conteo\",title=title,asFigure=True,theme=\"white\")\n",
        "\n",
        "    fig.update_traces()\n",
        "    fig.show()\n",
        "\n",
        "def eval_metrics(y_test, model_pred):\n",
        "    prec = precision_score(y_test,model_pred)\n",
        "    acc = accuracy_score(y_test,model_pred)\n",
        "    recall = recall_score(y_test,model_pred)\n",
        "    roc = roc_auc_score(y_test,model_pred)\n",
        "\n",
        "    data ={'precision':[prec],\n",
        "                'accuracy':[acc],\n",
        "                'recall': [recall],\n",
        "                'roc':[roc]}\n",
        "    return pd.DataFrame(data)"
      ]
    },
    {
      "cell_type": "markdown",
      "source": [
        "# Calidad de datos"
      ],
      "metadata": {
        "id": "HJ_x53jXXrwz"
      },
      "id": "HJ_x53jXXrwz"
    },
    {
      "cell_type": "markdown",
      "source": [
        "## Preview"
      ],
      "metadata": {
        "id": "I9TTyHfXXvsq"
      },
      "id": "I9TTyHfXXvsq"
    },
    {
      "cell_type": "code",
      "execution_count": null,
      "id": "2339b40b-1d78-4aae-a6f6-6e1690b6e4af",
      "metadata": {
        "id": "2339b40b-1d78-4aae-a6f6-6e1690b6e4af"
      },
      "outputs": [],
      "source": [
        "df = pd.read_pickle('/content/gdrive/MyDrive/data/COVID19MEXICO.pkl')"
      ]
    },
    {
      "cell_type": "code",
      "execution_count": null,
      "id": "c69e8393-2f46-424c-b52f-2eb7c508624e",
      "metadata": {
        "id": "c69e8393-2f46-424c-b52f-2eb7c508624e"
      },
      "outputs": [],
      "source": [
        "df"
      ]
    },
    {
      "cell_type": "code",
      "execution_count": null,
      "id": "e21e9910-a332-433b-a495-071616eb17f3",
      "metadata": {
        "id": "e21e9910-a332-433b-a495-071616eb17f3"
      },
      "outputs": [],
      "source": [
        "df.shape"
      ]
    },
    {
      "cell_type": "code",
      "execution_count": null,
      "id": "b912cb79-3963-4e70-97fb-f540430029fd",
      "metadata": {
        "id": "b912cb79-3963-4e70-97fb-f540430029fd"
      },
      "outputs": [],
      "source": [
        "df.columns"
      ]
    },
    {
      "cell_type": "code",
      "execution_count": null,
      "id": "852e7777-a7db-4dfa-8d44-9b8698bbf9a8",
      "metadata": {
        "id": "852e7777-a7db-4dfa-8d44-9b8698bbf9a8"
      },
      "outputs": [],
      "source": [
        "df.info()"
      ]
    },
    {
      "cell_type": "code",
      "execution_count": null,
      "id": "902f2612-1047-4973-b56c-df1d232a0c10",
      "metadata": {
        "id": "902f2612-1047-4973-b56c-df1d232a0c10"
      },
      "outputs": [],
      "source": [
        "df.describe(include = \"object\")"
      ]
    },
    {
      "cell_type": "code",
      "execution_count": null,
      "id": "cf218d50-8a4c-455e-849a-188deb099dc6",
      "metadata": {
        "id": "cf218d50-8a4c-455e-849a-188deb099dc6"
      },
      "outputs": [],
      "source": [
        "df.describe()"
      ]
    },
    {
      "cell_type": "code",
      "execution_count": null,
      "id": "8f022f3a-b086-44f3-a7a8-6ce27ece49bb",
      "metadata": {
        "id": "8f022f3a-b086-44f3-a7a8-6ce27ece49bb"
      },
      "outputs": [],
      "source": [
        "for col in df:\n",
        "  print(col)\n",
        "  values = df[col].value_counts()\n",
        "  display(values)\n",
        "  print(\"\\n\")"
      ]
    },
    {
      "cell_type": "code",
      "execution_count": null,
      "id": "61101d51-f925-4acc-8ed0-648a5060d94e",
      "metadata": {
        "id": "61101d51-f925-4acc-8ed0-648a5060d94e"
      },
      "outputs": [],
      "source": [
        "df.columns"
      ]
    },
    {
      "cell_type": "markdown",
      "source": [
        "## Etiquetado de variables\n",
        "\n",
        "Borramos las variables \"FECHA_DEF\", \"FECHA_INGRESO\", \"INTUBADO\", \"UCI\" para seguir lineamientos de la práctica. Etiquetamos variables."
      ],
      "metadata": {
        "id": "bHda8qsnX32v"
      },
      "id": "bHda8qsnX32v"
    },
    {
      "cell_type": "code",
      "execution_count": null,
      "id": "e82ef287-0dcb-465a-aaab-2d4e728ff8d5",
      "metadata": {
        "id": "e82ef287-0dcb-465a-aaab-2d4e728ff8d5"
      },
      "outputs": [],
      "source": [
        "df.drop(columns = [\"FECHA_DEF\", \"FECHA_INGRESO\", \"INTUBADO\", \"UCI\"], inplace = True)"
      ]
    },
    {
      "cell_type": "code",
      "execution_count": null,
      "id": "67050f96-04a3-454b-abd3-e0ca42922845",
      "metadata": {
        "id": "67050f96-04a3-454b-abd3-e0ca42922845"
      },
      "outputs": [],
      "source": [
        "id_feats = ['ID_REGISTRO']\n",
        "v_feats = ['ORIGEN', 'SECTOR', 'ENTIDAD_UM',\n",
        "       'SEXO', 'ENTIDAD_NAC', 'ENTIDAD_RES', 'MUNICIPIO_RES',\n",
        "       'NEUMONIA','NACIONALIDAD', 'EMBARAZO', 'HABLA_LENGUA_INDIG', 'INDIGENA',\n",
        "       'DIABETES', 'EPOC', 'ASMA', 'INMUSUPR', 'HIPERTENSION', 'OTRA_COM',\n",
        "       'CARDIOVASCULAR', 'OBESIDAD', 'RENAL_CRONICA', 'TABAQUISMO',\n",
        "       'OTRO_CASO', 'TOMA_MUESTRA_LAB', 'RESULTADO_LAB',\n",
        "       'TOMA_MUESTRA_ANTIGENO', 'RESULTADO_ANTIGENO', 'CLASIFICACION_FINAL',\n",
        "       'MIGRANTE', 'PAIS_NACIONALIDAD', 'PAIS_ORIGEN']\n",
        "c_feats = ['EDAD']\n",
        "\n",
        "d_feats = ['FECHA_SINTOMAS']\n",
        "\n",
        "tgt_feats = ['TIPO_PACIENTE']\n",
        "\n",
        "df=rename_cols(df,id_feats,\"id_\")\n",
        "df=rename_cols(df,d_feats,\"d_\")\n",
        "df=rename_cols(df,v_feats,\"v_\")\n",
        "df=rename_cols(df,c_feats,\"c_\")\n",
        "df=rename_cols(df,tgt_feats,\"tgt_\")"
      ]
    },
    {
      "cell_type": "markdown",
      "source": [
        "## Duplicados\n",
        "\n",
        "No se encontraron duplicados"
      ],
      "metadata": {
        "id": "Mr7tb-LnX-Jm"
      },
      "id": "Mr7tb-LnX-Jm"
    },
    {
      "cell_type": "code",
      "execution_count": null,
      "id": "c047e220-cf18-4cbb-855f-83f2626cc800",
      "metadata": {
        "id": "c047e220-cf18-4cbb-855f-83f2626cc800"
      },
      "outputs": [],
      "source": [
        "df.duplicated().sum()"
      ]
    },
    {
      "cell_type": "code",
      "execution_count": null,
      "id": "cfe721e6-e78c-411d-ad41-030492d7071d",
      "metadata": {
        "id": "cfe721e6-e78c-411d-ad41-030492d7071d"
      },
      "outputs": [],
      "source": [
        "df.duplicated(subset = 'id_ID_REGISTRO').sum()"
      ]
    },
    {
      "cell_type": "markdown",
      "source": [
        "## Orden y precisión\n",
        "\n",
        "Buscamos y eliminamos variables unitarias. Normalizamos aquellas que tengan demasiadas categorías."
      ],
      "metadata": {
        "id": "UzD2rTX0YNb_"
      },
      "id": "UzD2rTX0YNb_"
    },
    {
      "cell_type": "code",
      "execution_count": null,
      "id": "017d65f2-8e35-4272-bf36-861e511c9644",
      "metadata": {
        "id": "017d65f2-8e35-4272-bf36-861e511c9644"
      },
      "outputs": [],
      "source": [
        "for col in df.filter(like=\"v_\").columns:\n",
        "    unitarias(df,col)"
      ]
    },
    {
      "cell_type": "code",
      "execution_count": null,
      "id": "77835b77-c743-49b5-9992-34489dc5b2b1",
      "metadata": {
        "id": "77835b77-c743-49b5-9992-34489dc5b2b1"
      },
      "outputs": [],
      "source": [
        "df.drop(columns = [\"v_PAIS_ORIGEN\", \"v_PAIS_NACIONALIDAD\", \"v_MIGRANTE\", \"v_RENAL_CRONICA\", \"v_CARDIOVASCULAR\",\n",
        "                   \"v_OTRA_COM\",\"v_NEUMONIA\", \"v_NACIONALIDAD\",\"v_HABLA_LENGUA_INDIG\", \"v_INDIGENA\",\n",
        "                   \"FECHA_ACTUALIZACION\", ## unitarias\n",
        "                   \"v_MUNICIPIO_RES\"] ## con demasiadas categorías, usaremos únicamente el estado de residencia\n",
        "        , inplace = True)"
      ]
    },
    {
      "cell_type": "markdown",
      "source": [
        "Mantenemos las variables de TABAQUISMO y ASMA, ya que se consideran importantes para predecir la hospitalización de los pacientes de COVID."
      ],
      "metadata": {
        "id": "sMAQRddMG8eG"
      },
      "id": "sMAQRddMG8eG"
    },
    {
      "cell_type": "markdown",
      "source": [
        "Normalizamos variables de *estado de residencia* y *nacimiento* así como la *entidad de la unidad médica*, el *sector* y la *clasificación final*, por tener muchas categorías. Las variables relacionadas a entidades se convierten en variables binarias:\n",
        "\n",
        "- Zona metropolitana: Estado de México y CDMX\n",
        "- Otros: Estados diferentes de la zona metropolitana.\n",
        "\n",
        "Para SECTOR, las 10 menos frecuentes se agrupan en \"otros\". Finalmente, para CLASIFICACION FINAL se agrupan las 5 menos frecuentes en una categoría \"otros\"."
      ],
      "metadata": {
        "id": "1m68Y9vRbu3H"
      },
      "id": "1m68Y9vRbu3H"
    },
    {
      "cell_type": "code",
      "execution_count": null,
      "metadata": {
        "id": "CvI7QwUSbP60"
      },
      "outputs": [],
      "source": [
        "otrosNAC = list(set(df[\"v_ENTIDAD_NAC\"].unique())-set([9,15]))\n",
        "df[\"v_ENTIDAD_NAC\"].replace([9, 15], \"zona_metropolitana\", inplace = True)\n",
        "df[\"v_ENTIDAD_NAC\"].replace(otrosNAC, \"otros\", inplace = True)"
      ],
      "id": "CvI7QwUSbP60"
    },
    {
      "cell_type": "code",
      "execution_count": null,
      "metadata": {
        "id": "5wc5xIFmbP61"
      },
      "outputs": [],
      "source": [
        "otrosRES = list(set(df[\"v_ENTIDAD_RES\"].unique())-set([9,15]))\n",
        "df[\"v_ENTIDAD_RES\"].replace([9, 15], \"zona_metropolitana\", inplace = True)\n",
        "df[\"v_ENTIDAD_RES\"].replace(otrosRES, \"otros\", inplace = True)"
      ],
      "id": "5wc5xIFmbP61"
    },
    {
      "cell_type": "code",
      "execution_count": null,
      "metadata": {
        "id": "rr7THUcrbP62"
      },
      "outputs": [],
      "source": [
        "otrosUM = list(set(df[\"v_ENTIDAD_UM\"].unique())-set([9,15]))\n",
        "df[\"v_ENTIDAD_UM\"].replace([9, 15], \"zona_metropolitana\", inplace = True)\n",
        "df[\"v_ENTIDAD_UM\"].replace(otrosUM, \"otros\", inplace = True)"
      ],
      "id": "rr7THUcrbP62"
    },
    {
      "cell_type": "code",
      "execution_count": null,
      "metadata": {
        "id": "o79xNS9ibP63"
      },
      "outputs": [],
      "source": [
        "dict_sector = dict(zip(list(df[\"v_SECTOR\"].value_counts(1).iloc[-10:].index),[\"otro\"]*10))\n",
        "df[\"v_SECTOR\"] = df[\"v_SECTOR\"].replace(dict_sector)"
      ],
      "id": "o79xNS9ibP63"
    },
    {
      "cell_type": "code",
      "source": [
        "dict_clas_final = dict(zip(list(df[\"v_CLASIFICACION_FINAL\"].value_counts(1).iloc[-5:].index),[\"otro\"]*5))\n",
        "df[\"v_CLASIFICACION_FINAL\"] = df[\"v_CLASIFICACION_FINAL\"].replace(dict_clas_final)"
      ],
      "metadata": {
        "id": "xMa4d8gEp5b1"
      },
      "id": "xMa4d8gEp5b1",
      "execution_count": null,
      "outputs": []
    },
    {
      "cell_type": "markdown",
      "source": [
        "## Valores faltantes\n",
        "\n",
        "Los datos faltantes en las variables categóricas son representados por los códigos 99, 97 y 98, por lo que las observaciones con dichos valores serán convertidas a NA.\n",
        "\n",
        "Se eliminan del dataset las variables con menos del 80% de los datos completos."
      ],
      "metadata": {
        "id": "VZRe8IenZVpF"
      },
      "id": "VZRe8IenZVpF"
    },
    {
      "cell_type": "code",
      "source": [
        "df_missings = df.drop(\"c_EDAD\",axis=1)"
      ],
      "metadata": {
        "id": "YOOeinFYnfTj"
      },
      "id": "YOOeinFYnfTj",
      "execution_count": null,
      "outputs": []
    },
    {
      "cell_type": "code",
      "execution_count": null,
      "id": "3fddaf92-1e22-4dee-92fd-f8602d545b96",
      "metadata": {
        "id": "3fddaf92-1e22-4dee-92fd-f8602d545b96"
      },
      "outputs": [],
      "source": [
        "df_missings.replace(99, np.nan, inplace = True)\n",
        "df_missings.replace(97, np.nan, inplace = True)\n",
        "df_missings.replace(98, np.nan, inplace = True)"
      ]
    },
    {
      "cell_type": "code",
      "execution_count": null,
      "id": "0ed29019-e6df-4aec-b684-046d3ced0b7f",
      "metadata": {
        "id": "0ed29019-e6df-4aec-b684-046d3ced0b7f"
      },
      "outputs": [],
      "source": [
        "df_missings['c_EDAD'] = df[\"c_EDAD\"]"
      ]
    },
    {
      "cell_type": "code",
      "source": [
        "completitud(df_missings)"
      ],
      "metadata": {
        "id": "kotPTMpIohs3"
      },
      "id": "kotPTMpIohs3",
      "execution_count": null,
      "outputs": []
    },
    {
      "cell_type": "code",
      "execution_count": null,
      "id": "f4af45a2-06f3-4af7-bebd-5c93633f9ded",
      "metadata": {
        "id": "f4af45a2-06f3-4af7-bebd-5c93633f9ded"
      },
      "outputs": [],
      "source": [
        "df = df_missings.copy()\n",
        "df.drop(columns = [\"v_RESULTADO_LAB\", \"v_EMBARAZO\"], inplace = True)"
      ]
    },
    {
      "cell_type": "markdown",
      "source": [
        "Para hacer el EDA tomamos solo una muestra del conjunto de datos, debido al tamaño de éste."
      ],
      "metadata": {
        "id": "v9L08JgmpXw6"
      },
      "id": "v9L08JgmpXw6"
    },
    {
      "cell_type": "code",
      "execution_count": null,
      "id": "01f5409f-8edb-4a21-ac32-b382e680135c",
      "metadata": {
        "id": "01f5409f-8edb-4a21-ac32-b382e680135c"
      },
      "outputs": [],
      "source": [
        "X, X_dummie =train_test_split(df,test_size=0.9,stratify=df[\"tgt_TIPO_PACIENTE\"],random_state=54)"
      ]
    },
    {
      "cell_type": "markdown",
      "id": "82d6ac40-bf91-48dd-8d83-8e2ed9113d5a",
      "metadata": {
        "id": "82d6ac40-bf91-48dd-8d83-8e2ed9113d5a"
      },
      "source": [
        "## EDA"
      ]
    },
    {
      "cell_type": "code",
      "execution_count": null,
      "id": "9664d50e-94dc-4c10-b8cf-f8ab6e4edf0b",
      "metadata": {
        "id": "9664d50e-94dc-4c10-b8cf-f8ab6e4edf0b"
      },
      "outputs": [],
      "source": [
        "for col in X.filter(like=\"v_\"):\n",
        "    pie(X,col,col)"
      ]
    },
    {
      "cell_type": "code",
      "execution_count": null,
      "id": "995f0c26-fbde-46c4-b225-70d2e001647e",
      "metadata": {
        "id": "995f0c26-fbde-46c4-b225-70d2e001647e"
      },
      "outputs": [],
      "source": [
        "colors = sns.dark_palette(\"#69d\", reverse=True)\n",
        "\n",
        "antigeno=pd.crosstab(df.v_RESULTADO_ANTIGENO,df.tgt_TIPO_PACIENTE,normalize=True)\n",
        "antigeno"
      ]
    },
    {
      "cell_type": "code",
      "execution_count": null,
      "id": "f26a28f1-2339-471a-9c1f-d5e819e5d0eb",
      "metadata": {
        "id": "f26a28f1-2339-471a-9c1f-d5e819e5d0eb"
      },
      "outputs": [],
      "source": [
        "antigeno.plot(kind=\"bar\",stacked=True,color=colors)"
      ]
    },
    {
      "cell_type": "code",
      "execution_count": null,
      "id": "ae7f518f-79e4-45e4-922a-3ec744165d7e",
      "metadata": {
        "id": "ae7f518f-79e4-45e4-922a-3ec744165d7e"
      },
      "outputs": [],
      "source": [
        "sns.boxplot( data=X,x='tgt_TIPO_PACIENTE', y='c_EDAD');"
      ]
    },
    {
      "cell_type": "markdown",
      "source": [
        "## Valores atípicos\n",
        "\n",
        "Se eliminan las edades mayores de 105 años, ya que o son datos incorrectos o muy extraños, además de que representan menos del 0.1% de los datos."
      ],
      "metadata": {
        "id": "tBf78s6xw8G4"
      },
      "id": "tBf78s6xw8G4"
    },
    {
      "cell_type": "code",
      "execution_count": null,
      "metadata": {
        "id": "e81c5c54-932c-41a3-8813-543330d0f9c4"
      },
      "outputs": [],
      "source": [
        "plt.scatter(range(df.shape[0]), y=df['c_EDAD'])"
      ],
      "id": "e81c5c54-932c-41a3-8813-543330d0f9c4"
    },
    {
      "cell_type": "code",
      "source": [
        "df[df[\"c_EDAD\"]>105].shape[0]/df.shape[0]"
      ],
      "metadata": {
        "id": "csp7Kkm8zEAH"
      },
      "id": "csp7Kkm8zEAH",
      "execution_count": null,
      "outputs": []
    },
    {
      "cell_type": "code",
      "source": [
        "df.drop(df[df[\"c_EDAD\"]>105].index, inplace=True, axis=0)"
      ],
      "metadata": {
        "id": "B3CwMhCoy2f8"
      },
      "id": "B3CwMhCoy2f8",
      "execution_count": null,
      "outputs": []
    },
    {
      "cell_type": "markdown",
      "source": [
        "## Split train-test\n",
        "Partimos la muestra en train y test para realizar la imputación de los valores faltantes."
      ],
      "metadata": {
        "id": "T8J9ggJ_qH-1"
      },
      "id": "T8J9ggJ_qH-1"
    },
    {
      "cell_type": "code",
      "execution_count": null,
      "id": "8f29f91a-cfa3-430d-894a-915c5b650ead",
      "metadata": {
        "id": "8f29f91a-cfa3-430d-894a-915c5b650ead"
      },
      "outputs": [],
      "source": [
        "y = df['tgt_TIPO_PACIENTE']\n",
        "X = df.drop('tgt_TIPO_PACIENTE',axis=1)\n",
        "y.replace(2, 0, inplace=True)\n",
        "\n",
        "X_train, X_test, y_train, y_test = train_test_split(X, y,\n",
        "                                                    random_state=1,\n",
        "                                                    stratify=df['tgt_TIPO_PACIENTE'],\n",
        "                                                    test_size=0.25,\n",
        "                                                    shuffle = True)"
      ]
    },
    {
      "cell_type": "code",
      "source": [
        "print(X_train.shape)\n",
        "print(X_test.shape)"
      ],
      "metadata": {
        "id": "s9tJJvEGsJ2j",
        "colab": {
          "base_uri": "https://localhost:8080/"
        },
        "outputId": "7f73eb9d-20e9-43a3-cd63-1355659f4368"
      },
      "id": "s9tJJvEGsJ2j",
      "execution_count": null,
      "outputs": [
        {
          "output_type": "stream",
          "name": "stdout",
          "text": [
            "(853416, 21)\n",
            "(284472, 21)\n"
          ]
        }
      ]
    },
    {
      "cell_type": "code",
      "source": [
        "y_train.value_counts(1)"
      ],
      "metadata": {
        "colab": {
          "base_uri": "https://localhost:8080/"
        },
        "id": "HRxNQj0BP_Qa",
        "outputId": "731b9e48-db9e-499d-b71e-85b4bdf110b7"
      },
      "id": "HRxNQj0BP_Qa",
      "execution_count": null,
      "outputs": [
        {
          "output_type": "execute_result",
          "data": {
            "text/plain": [
              "1    0.922576\n",
              "0    0.077424\n",
              "Name: tgt_TIPO_PACIENTE, dtype: float64"
            ]
          },
          "metadata": {},
          "execution_count": 21
        }
      ]
    },
    {
      "cell_type": "markdown",
      "id": "95583fc8-f87d-4a24-a768-b11ea847cb49",
      "metadata": {
        "id": "95583fc8-f87d-4a24-a768-b11ea847cb49"
      },
      "source": [
        "## Missings\n",
        "\n",
        "Se imputan todas las columnas con algún valor faltante y esto se hace con la moda."
      ]
    },
    {
      "cell_type": "code",
      "execution_count": null,
      "id": "a8026b68-c0f7-459f-90e5-a2b538edf2e6",
      "metadata": {
        "id": "a8026b68-c0f7-459f-90e5-a2b538edf2e6"
      },
      "outputs": [],
      "source": [
        "imp1=SimpleImputer(missing_values=np.nan,strategy=\"most_frequent\")"
      ]
    },
    {
      "cell_type": "code",
      "execution_count": null,
      "id": "f85419d9-1f57-4dff-bd9d-23ba7524bcf3",
      "metadata": {
        "id": "f85419d9-1f57-4dff-bd9d-23ba7524bcf3",
        "colab": {
          "base_uri": "https://localhost:8080/"
        },
        "outputId": "95cb152b-124a-433e-c28b-557b23ff73e2"
      },
      "outputs": [
        {
          "output_type": "execute_result",
          "data": {
            "text/plain": [
              "0    v_RESULTADO_ANTIGENO\n",
              "1             v_OTRO_CASO\n",
              "2              v_DIABETES\n",
              "3            v_TABAQUISMO\n",
              "4                  v_EPOC\n",
              "5          v_HIPERTENSION\n",
              "6                  v_ASMA\n",
              "7              v_INMUSUPR\n",
              "8              v_OBESIDAD\n",
              "Name: columna, dtype: object"
            ]
          },
          "metadata": {},
          "execution_count": 23
        }
      ],
      "source": [
        "miss=completitud(df)\n",
        "miss[miss[\"completitud\"]<100]\n",
        "comple = miss[miss[\"completitud\"]<100].columna\n",
        "comple"
      ]
    },
    {
      "cell_type": "code",
      "execution_count": null,
      "id": "f0adb8dd-4f11-4644-8fad-d94ee3eb1194",
      "metadata": {
        "id": "f0adb8dd-4f11-4644-8fad-d94ee3eb1194"
      },
      "outputs": [],
      "source": [
        "for col in comple:\n",
        "    imp1.fit(X_train[[col]])\n",
        "    X_train[[col]]=imp1.transform(X_train[[col]])\n",
        "    X_test[[col]]=imp1.transform(X_test[[col]])"
      ]
    },
    {
      "cell_type": "markdown",
      "source": [
        "Hasta aquí los datos faltantes han sido imputados."
      ],
      "metadata": {
        "id": "4sDB1JwoKXVM"
      },
      "id": "4sDB1JwoKXVM"
    },
    {
      "cell_type": "code",
      "source": [
        "# resultados imputacion: vistazo rápido\n",
        "for col in X_train.filter(like=\"v_\").columns:\n",
        "    print(X_train[col].value_counts())\n",
        "    print(\"\\n\")"
      ],
      "metadata": {
        "id": "zLsS92kTtA_D",
        "colab": {
          "base_uri": "https://localhost:8080/"
        },
        "outputId": "6ffbb50e-5718-4df2-b2d0-d3dfc0ac2cdb"
      },
      "id": "zLsS92kTtA_D",
      "execution_count": null,
      "outputs": [
        {
          "output_type": "stream",
          "name": "stdout",
          "text": [
            "2    603457\n",
            "1    249959\n",
            "Name: v_ORIGEN, dtype: int64\n",
            "\n",
            "\n",
            "4       458303\n",
            "12      268351\n",
            "9        65149\n",
            "6        42332\n",
            "otro     19281\n",
            "Name: v_SECTOR, dtype: int64\n",
            "\n",
            "\n",
            "otros                 550072\n",
            "zona_metropolitana    303344\n",
            "Name: v_ENTIDAD_UM, dtype: int64\n",
            "\n",
            "\n",
            "1    501720\n",
            "2    351696\n",
            "Name: v_SEXO, dtype: int64\n",
            "\n",
            "\n",
            "otros                 551103\n",
            "zona_metropolitana    302313\n",
            "Name: v_ENTIDAD_NAC, dtype: int64\n",
            "\n",
            "\n",
            "otros                 554056\n",
            "zona_metropolitana    299360\n",
            "Name: v_ENTIDAD_RES, dtype: int64\n",
            "\n",
            "\n",
            "2.0    786049\n",
            "1.0     67367\n",
            "Name: v_DIABETES, dtype: int64\n",
            "\n",
            "\n",
            "2.0    845041\n",
            "1.0      8375\n",
            "Name: v_EPOC, dtype: int64\n",
            "\n",
            "\n",
            "2.0    833426\n",
            "1.0     19990\n",
            "Name: v_ASMA, dtype: int64\n",
            "\n",
            "\n",
            "2.0    845707\n",
            "1.0      7709\n",
            "Name: v_INMUSUPR, dtype: int64\n",
            "\n",
            "\n",
            "2.0    759665\n",
            "1.0     93751\n",
            "Name: v_HIPERTENSION, dtype: int64\n",
            "\n",
            "\n",
            "2.0    788075\n",
            "1.0     65341\n",
            "Name: v_OBESIDAD, dtype: int64\n",
            "\n",
            "\n",
            "2.0    818606\n",
            "1.0     34810\n",
            "Name: v_TABAQUISMO, dtype: int64\n",
            "\n",
            "\n",
            "2.0    738496\n",
            "1.0    114920\n",
            "Name: v_OTRO_CASO, dtype: int64\n",
            "\n",
            "\n",
            "2    696227\n",
            "1    157189\n",
            "Name: v_TOMA_MUESTRA_LAB, dtype: int64\n",
            "\n",
            "\n",
            "1    749386\n",
            "2    104030\n",
            "Name: v_TOMA_MUESTRA_ANTIGENO, dtype: int64\n",
            "\n",
            "\n",
            "2.0    565508\n",
            "1.0    287908\n",
            "Name: v_RESULTADO_ANTIGENO, dtype: int64\n",
            "\n",
            "\n",
            "7       501786\n",
            "3       307621\n",
            "otro     44009\n",
            "Name: v_CLASIFICACION_FINAL, dtype: int64\n",
            "\n",
            "\n"
          ]
        }
      ]
    },
    {
      "cell_type": "markdown",
      "source": [
        "Volvemos a contar datos faltantes"
      ],
      "metadata": {
        "id": "hHFCm32zKiy0"
      },
      "id": "hHFCm32zKiy0"
    },
    {
      "cell_type": "code",
      "source": [
        "X_train.isna().sum()"
      ],
      "metadata": {
        "id": "Sj7qK_f_5UD2"
      },
      "id": "Sj7qK_f_5UD2",
      "execution_count": null,
      "outputs": []
    },
    {
      "cell_type": "markdown",
      "source": [
        "## One hot encoding\n",
        "\n",
        "Codificamos las variables categóricas. Se eliminan las variables de ID y la fecha de síntomas (FECHA_SINTOMAS) por no considerarse relevantes para el modelo."
      ],
      "metadata": {
        "id": "3HgVwwKDwDPI"
      },
      "id": "3HgVwwKDwDPI"
    },
    {
      "cell_type": "code",
      "source": [
        "X_train.columns"
      ],
      "metadata": {
        "id": "0O8_IPov6G2o"
      },
      "id": "0O8_IPov6G2o",
      "execution_count": null,
      "outputs": []
    },
    {
      "cell_type": "markdown",
      "source": [
        "## Preprocesamiento de datos\n",
        "\n",
        "Se aplica One hot encoding a las variables categóricas y escalamiento a la continua."
      ],
      "metadata": {
        "id": "m8_inrOhDVRX"
      },
      "id": "m8_inrOhDVRX"
    },
    {
      "cell_type": "code",
      "execution_count": null,
      "id": "2b310bbd-73c7-4e0c-b19f-b4605d8002fe",
      "metadata": {
        "id": "2b310bbd-73c7-4e0c-b19f-b4605d8002fe"
      },
      "outputs": [],
      "source": [
        "var_cat = X_train.filter(like = \"v_\").columns\n",
        "preprocesado = ColumnTransformer(\n",
        "    [('scale', StandardScaler(), ['c_EDAD']), #escalamos edad\n",
        "    ('one', OneHotEncoder(sparse=False,drop='first'),var_cat)], #onehot encoding\n",
        "    remainder='drop'\n",
        ")\n",
        "\n",
        "#convertimos categoricas a object\n",
        "for col in X_train.filter(like=\"v_\").columns:\n",
        "    X_train[col]=X_train[col].astype('str')\n",
        "    X_test[col]=X_test[col].astype('str')"
      ]
    },
    {
      "cell_type": "code",
      "execution_count": null,
      "id": "0079cf41-b505-4f2e-bb41-69865cb9c5ff",
      "metadata": {
        "id": "0079cf41-b505-4f2e-bb41-69865cb9c5ff"
      },
      "outputs": [],
      "source": [
        "X_train_pp = preprocesado.fit_transform(X_train,y_train)\n",
        "X_test_pp = preprocesado.transform(X_test)\n",
        "\n",
        "X_train_pp = pd.DataFrame(columns=preprocesado.get_feature_names_out(), data=X_train_pp)\n",
        "X_test_pp = pd.DataFrame(columns=preprocesado.get_feature_names_out(), data=X_test_pp)"
      ]
    },
    {
      "cell_type": "code",
      "source": [
        "X_train_pp.shape"
      ],
      "metadata": {
        "id": "Lkz4EbDEsv9z",
        "colab": {
          "base_uri": "https://localhost:8080/"
        },
        "outputId": "49f96431-5f7c-46b9-d3a8-4c77022953d8"
      },
      "id": "Lkz4EbDEsv9z",
      "execution_count": null,
      "outputs": [
        {
          "output_type": "execute_result",
          "data": {
            "text/plain": [
              "(853416, 23)"
            ]
          },
          "metadata": {},
          "execution_count": 29
        }
      ]
    },
    {
      "cell_type": "code",
      "source": [
        "X_train_pp"
      ],
      "metadata": {
        "id": "mVAFDwnw3sic",
        "colab": {
          "base_uri": "https://localhost:8080/",
          "height": 433
        },
        "outputId": "03b5d2d1-ab11-4d0d-9cee-38e65044890a"
      },
      "id": "mVAFDwnw3sic",
      "execution_count": null,
      "outputs": [
        {
          "output_type": "execute_result",
          "data": {
            "text/plain": [
              "        scale__c_EDAD  one__v_ORIGEN_2  one__v_SECTOR_4  one__v_SECTOR_6  \\\n",
              "0           -0.018787              0.0              0.0              0.0   \n",
              "1            0.032650              1.0              1.0              0.0   \n",
              "2            1.267131              1.0              1.0              0.0   \n",
              "3            2.141556              1.0              1.0              0.0   \n",
              "4            0.084086              1.0              1.0              0.0   \n",
              "...               ...              ...              ...              ...   \n",
              "853411       0.238397              1.0              1.0              0.0   \n",
              "853412       0.186960              0.0              0.0              0.0   \n",
              "853413      -0.533154              1.0              0.0              1.0   \n",
              "853414      -0.430281              0.0              1.0              0.0   \n",
              "853415      -0.790338              0.0              0.0              0.0   \n",
              "\n",
              "        one__v_SECTOR_9  one__v_SECTOR_otro  \\\n",
              "0                   0.0                 0.0   \n",
              "1                   0.0                 0.0   \n",
              "2                   0.0                 0.0   \n",
              "3                   0.0                 0.0   \n",
              "4                   0.0                 0.0   \n",
              "...                 ...                 ...   \n",
              "853411              0.0                 0.0   \n",
              "853412              0.0                 0.0   \n",
              "853413              0.0                 0.0   \n",
              "853414              0.0                 0.0   \n",
              "853415              0.0                 0.0   \n",
              "\n",
              "        one__v_ENTIDAD_UM_zona_metropolitana  one__v_SEXO_2  \\\n",
              "0                                        1.0            1.0   \n",
              "1                                        0.0            0.0   \n",
              "2                                        0.0            0.0   \n",
              "3                                        0.0            0.0   \n",
              "4                                        0.0            0.0   \n",
              "...                                      ...            ...   \n",
              "853411                                   0.0            1.0   \n",
              "853412                                   0.0            0.0   \n",
              "853413                                   1.0            0.0   \n",
              "853414                                   0.0            0.0   \n",
              "853415                                   1.0            0.0   \n",
              "\n",
              "        one__v_ENTIDAD_NAC_zona_metropolitana  \\\n",
              "0                                         1.0   \n",
              "1                                         0.0   \n",
              "2                                         0.0   \n",
              "3                                         0.0   \n",
              "4                                         0.0   \n",
              "...                                       ...   \n",
              "853411                                    1.0   \n",
              "853412                                    0.0   \n",
              "853413                                    0.0   \n",
              "853414                                    0.0   \n",
              "853415                                    1.0   \n",
              "\n",
              "        one__v_ENTIDAD_RES_zona_metropolitana  ...  one__v_INMUSUPR_2.0  \\\n",
              "0                                         1.0  ...                  1.0   \n",
              "1                                         0.0  ...                  1.0   \n",
              "2                                         0.0  ...                  1.0   \n",
              "3                                         0.0  ...                  1.0   \n",
              "4                                         0.0  ...                  1.0   \n",
              "...                                       ...  ...                  ...   \n",
              "853411                                    0.0  ...                  1.0   \n",
              "853412                                    0.0  ...                  1.0   \n",
              "853413                                    1.0  ...                  1.0   \n",
              "853414                                    0.0  ...                  1.0   \n",
              "853415                                    1.0  ...                  1.0   \n",
              "\n",
              "        one__v_HIPERTENSION_2.0  one__v_OBESIDAD_2.0  one__v_TABAQUISMO_2.0  \\\n",
              "0                           1.0                  1.0                    1.0   \n",
              "1                           1.0                  0.0                    1.0   \n",
              "2                           1.0                  0.0                    1.0   \n",
              "3                           1.0                  1.0                    1.0   \n",
              "4                           1.0                  1.0                    1.0   \n",
              "...                         ...                  ...                    ...   \n",
              "853411                      1.0                  0.0                    1.0   \n",
              "853412                      1.0                  1.0                    1.0   \n",
              "853413                      1.0                  1.0                    1.0   \n",
              "853414                      1.0                  1.0                    1.0   \n",
              "853415                      1.0                  1.0                    1.0   \n",
              "\n",
              "        one__v_OTRO_CASO_2.0  one__v_TOMA_MUESTRA_LAB_2  \\\n",
              "0                        1.0                        1.0   \n",
              "1                        1.0                        1.0   \n",
              "2                        1.0                        1.0   \n",
              "3                        1.0                        1.0   \n",
              "4                        1.0                        1.0   \n",
              "...                      ...                        ...   \n",
              "853411                   1.0                        1.0   \n",
              "853412                   1.0                        0.0   \n",
              "853413                   1.0                        1.0   \n",
              "853414                   1.0                        1.0   \n",
              "853415                   0.0                        1.0   \n",
              "\n",
              "        one__v_TOMA_MUESTRA_ANTIGENO_2  one__v_RESULTADO_ANTIGENO_2.0  \\\n",
              "0                                  0.0                            1.0   \n",
              "1                                  0.0                            0.0   \n",
              "2                                  0.0                            1.0   \n",
              "3                                  0.0                            1.0   \n",
              "4                                  0.0                            1.0   \n",
              "...                                ...                            ...   \n",
              "853411                             0.0                            0.0   \n",
              "853412                             0.0                            1.0   \n",
              "853413                             0.0                            1.0   \n",
              "853414                             0.0                            0.0   \n",
              "853415                             0.0                            1.0   \n",
              "\n",
              "        one__v_CLASIFICACION_FINAL_7  one__v_CLASIFICACION_FINAL_otro  \n",
              "0                                1.0                              0.0  \n",
              "1                                0.0                              0.0  \n",
              "2                                1.0                              0.0  \n",
              "3                                1.0                              0.0  \n",
              "4                                1.0                              0.0  \n",
              "...                              ...                              ...  \n",
              "853411                           0.0                              0.0  \n",
              "853412                           1.0                              0.0  \n",
              "853413                           1.0                              0.0  \n",
              "853414                           0.0                              0.0  \n",
              "853415                           1.0                              0.0  \n",
              "\n",
              "[853416 rows x 23 columns]"
            ],
            "text/html": [
              "\n",
              "  <div id=\"df-fac64c86-6a00-4f23-a97b-afb8c298185c\" class=\"colab-df-container\">\n",
              "    <div>\n",
              "<style scoped>\n",
              "    .dataframe tbody tr th:only-of-type {\n",
              "        vertical-align: middle;\n",
              "    }\n",
              "\n",
              "    .dataframe tbody tr th {\n",
              "        vertical-align: top;\n",
              "    }\n",
              "\n",
              "    .dataframe thead th {\n",
              "        text-align: right;\n",
              "    }\n",
              "</style>\n",
              "<table border=\"1\" class=\"dataframe\">\n",
              "  <thead>\n",
              "    <tr style=\"text-align: right;\">\n",
              "      <th></th>\n",
              "      <th>scale__c_EDAD</th>\n",
              "      <th>one__v_ORIGEN_2</th>\n",
              "      <th>one__v_SECTOR_4</th>\n",
              "      <th>one__v_SECTOR_6</th>\n",
              "      <th>one__v_SECTOR_9</th>\n",
              "      <th>one__v_SECTOR_otro</th>\n",
              "      <th>one__v_ENTIDAD_UM_zona_metropolitana</th>\n",
              "      <th>one__v_SEXO_2</th>\n",
              "      <th>one__v_ENTIDAD_NAC_zona_metropolitana</th>\n",
              "      <th>one__v_ENTIDAD_RES_zona_metropolitana</th>\n",
              "      <th>...</th>\n",
              "      <th>one__v_INMUSUPR_2.0</th>\n",
              "      <th>one__v_HIPERTENSION_2.0</th>\n",
              "      <th>one__v_OBESIDAD_2.0</th>\n",
              "      <th>one__v_TABAQUISMO_2.0</th>\n",
              "      <th>one__v_OTRO_CASO_2.0</th>\n",
              "      <th>one__v_TOMA_MUESTRA_LAB_2</th>\n",
              "      <th>one__v_TOMA_MUESTRA_ANTIGENO_2</th>\n",
              "      <th>one__v_RESULTADO_ANTIGENO_2.0</th>\n",
              "      <th>one__v_CLASIFICACION_FINAL_7</th>\n",
              "      <th>one__v_CLASIFICACION_FINAL_otro</th>\n",
              "    </tr>\n",
              "  </thead>\n",
              "  <tbody>\n",
              "    <tr>\n",
              "      <th>0</th>\n",
              "      <td>-0.018787</td>\n",
              "      <td>0.0</td>\n",
              "      <td>0.0</td>\n",
              "      <td>0.0</td>\n",
              "      <td>0.0</td>\n",
              "      <td>0.0</td>\n",
              "      <td>1.0</td>\n",
              "      <td>1.0</td>\n",
              "      <td>1.0</td>\n",
              "      <td>1.0</td>\n",
              "      <td>...</td>\n",
              "      <td>1.0</td>\n",
              "      <td>1.0</td>\n",
              "      <td>1.0</td>\n",
              "      <td>1.0</td>\n",
              "      <td>1.0</td>\n",
              "      <td>1.0</td>\n",
              "      <td>0.0</td>\n",
              "      <td>1.0</td>\n",
              "      <td>1.0</td>\n",
              "      <td>0.0</td>\n",
              "    </tr>\n",
              "    <tr>\n",
              "      <th>1</th>\n",
              "      <td>0.032650</td>\n",
              "      <td>1.0</td>\n",
              "      <td>1.0</td>\n",
              "      <td>0.0</td>\n",
              "      <td>0.0</td>\n",
              "      <td>0.0</td>\n",
              "      <td>0.0</td>\n",
              "      <td>0.0</td>\n",
              "      <td>0.0</td>\n",
              "      <td>0.0</td>\n",
              "      <td>...</td>\n",
              "      <td>1.0</td>\n",
              "      <td>1.0</td>\n",
              "      <td>0.0</td>\n",
              "      <td>1.0</td>\n",
              "      <td>1.0</td>\n",
              "      <td>1.0</td>\n",
              "      <td>0.0</td>\n",
              "      <td>0.0</td>\n",
              "      <td>0.0</td>\n",
              "      <td>0.0</td>\n",
              "    </tr>\n",
              "    <tr>\n",
              "      <th>2</th>\n",
              "      <td>1.267131</td>\n",
              "      <td>1.0</td>\n",
              "      <td>1.0</td>\n",
              "      <td>0.0</td>\n",
              "      <td>0.0</td>\n",
              "      <td>0.0</td>\n",
              "      <td>0.0</td>\n",
              "      <td>0.0</td>\n",
              "      <td>0.0</td>\n",
              "      <td>0.0</td>\n",
              "      <td>...</td>\n",
              "      <td>1.0</td>\n",
              "      <td>1.0</td>\n",
              "      <td>0.0</td>\n",
              "      <td>1.0</td>\n",
              "      <td>1.0</td>\n",
              "      <td>1.0</td>\n",
              "      <td>0.0</td>\n",
              "      <td>1.0</td>\n",
              "      <td>1.0</td>\n",
              "      <td>0.0</td>\n",
              "    </tr>\n",
              "    <tr>\n",
              "      <th>3</th>\n",
              "      <td>2.141556</td>\n",
              "      <td>1.0</td>\n",
              "      <td>1.0</td>\n",
              "      <td>0.0</td>\n",
              "      <td>0.0</td>\n",
              "      <td>0.0</td>\n",
              "      <td>0.0</td>\n",
              "      <td>0.0</td>\n",
              "      <td>0.0</td>\n",
              "      <td>0.0</td>\n",
              "      <td>...</td>\n",
              "      <td>1.0</td>\n",
              "      <td>1.0</td>\n",
              "      <td>1.0</td>\n",
              "      <td>1.0</td>\n",
              "      <td>1.0</td>\n",
              "      <td>1.0</td>\n",
              "      <td>0.0</td>\n",
              "      <td>1.0</td>\n",
              "      <td>1.0</td>\n",
              "      <td>0.0</td>\n",
              "    </tr>\n",
              "    <tr>\n",
              "      <th>4</th>\n",
              "      <td>0.084086</td>\n",
              "      <td>1.0</td>\n",
              "      <td>1.0</td>\n",
              "      <td>0.0</td>\n",
              "      <td>0.0</td>\n",
              "      <td>0.0</td>\n",
              "      <td>0.0</td>\n",
              "      <td>0.0</td>\n",
              "      <td>0.0</td>\n",
              "      <td>0.0</td>\n",
              "      <td>...</td>\n",
              "      <td>1.0</td>\n",
              "      <td>1.0</td>\n",
              "      <td>1.0</td>\n",
              "      <td>1.0</td>\n",
              "      <td>1.0</td>\n",
              "      <td>1.0</td>\n",
              "      <td>0.0</td>\n",
              "      <td>1.0</td>\n",
              "      <td>1.0</td>\n",
              "      <td>0.0</td>\n",
              "    </tr>\n",
              "    <tr>\n",
              "      <th>...</th>\n",
              "      <td>...</td>\n",
              "      <td>...</td>\n",
              "      <td>...</td>\n",
              "      <td>...</td>\n",
              "      <td>...</td>\n",
              "      <td>...</td>\n",
              "      <td>...</td>\n",
              "      <td>...</td>\n",
              "      <td>...</td>\n",
              "      <td>...</td>\n",
              "      <td>...</td>\n",
              "      <td>...</td>\n",
              "      <td>...</td>\n",
              "      <td>...</td>\n",
              "      <td>...</td>\n",
              "      <td>...</td>\n",
              "      <td>...</td>\n",
              "      <td>...</td>\n",
              "      <td>...</td>\n",
              "      <td>...</td>\n",
              "      <td>...</td>\n",
              "    </tr>\n",
              "    <tr>\n",
              "      <th>853411</th>\n",
              "      <td>0.238397</td>\n",
              "      <td>1.0</td>\n",
              "      <td>1.0</td>\n",
              "      <td>0.0</td>\n",
              "      <td>0.0</td>\n",
              "      <td>0.0</td>\n",
              "      <td>0.0</td>\n",
              "      <td>1.0</td>\n",
              "      <td>1.0</td>\n",
              "      <td>0.0</td>\n",
              "      <td>...</td>\n",
              "      <td>1.0</td>\n",
              "      <td>1.0</td>\n",
              "      <td>0.0</td>\n",
              "      <td>1.0</td>\n",
              "      <td>1.0</td>\n",
              "      <td>1.0</td>\n",
              "      <td>0.0</td>\n",
              "      <td>0.0</td>\n",
              "      <td>0.0</td>\n",
              "      <td>0.0</td>\n",
              "    </tr>\n",
              "    <tr>\n",
              "      <th>853412</th>\n",
              "      <td>0.186960</td>\n",
              "      <td>0.0</td>\n",
              "      <td>0.0</td>\n",
              "      <td>0.0</td>\n",
              "      <td>0.0</td>\n",
              "      <td>0.0</td>\n",
              "      <td>0.0</td>\n",
              "      <td>0.0</td>\n",
              "      <td>0.0</td>\n",
              "      <td>0.0</td>\n",
              "      <td>...</td>\n",
              "      <td>1.0</td>\n",
              "      <td>1.0</td>\n",
              "      <td>1.0</td>\n",
              "      <td>1.0</td>\n",
              "      <td>1.0</td>\n",
              "      <td>0.0</td>\n",
              "      <td>0.0</td>\n",
              "      <td>1.0</td>\n",
              "      <td>1.0</td>\n",
              "      <td>0.0</td>\n",
              "    </tr>\n",
              "    <tr>\n",
              "      <th>853413</th>\n",
              "      <td>-0.533154</td>\n",
              "      <td>1.0</td>\n",
              "      <td>0.0</td>\n",
              "      <td>1.0</td>\n",
              "      <td>0.0</td>\n",
              "      <td>0.0</td>\n",
              "      <td>1.0</td>\n",
              "      <td>0.0</td>\n",
              "      <td>0.0</td>\n",
              "      <td>1.0</td>\n",
              "      <td>...</td>\n",
              "      <td>1.0</td>\n",
              "      <td>1.0</td>\n",
              "      <td>1.0</td>\n",
              "      <td>1.0</td>\n",
              "      <td>1.0</td>\n",
              "      <td>1.0</td>\n",
              "      <td>0.0</td>\n",
              "      <td>1.0</td>\n",
              "      <td>1.0</td>\n",
              "      <td>0.0</td>\n",
              "    </tr>\n",
              "    <tr>\n",
              "      <th>853414</th>\n",
              "      <td>-0.430281</td>\n",
              "      <td>0.0</td>\n",
              "      <td>1.0</td>\n",
              "      <td>0.0</td>\n",
              "      <td>0.0</td>\n",
              "      <td>0.0</td>\n",
              "      <td>0.0</td>\n",
              "      <td>0.0</td>\n",
              "      <td>0.0</td>\n",
              "      <td>0.0</td>\n",
              "      <td>...</td>\n",
              "      <td>1.0</td>\n",
              "      <td>1.0</td>\n",
              "      <td>1.0</td>\n",
              "      <td>1.0</td>\n",
              "      <td>1.0</td>\n",
              "      <td>1.0</td>\n",
              "      <td>0.0</td>\n",
              "      <td>0.0</td>\n",
              "      <td>0.0</td>\n",
              "      <td>0.0</td>\n",
              "    </tr>\n",
              "    <tr>\n",
              "      <th>853415</th>\n",
              "      <td>-0.790338</td>\n",
              "      <td>0.0</td>\n",
              "      <td>0.0</td>\n",
              "      <td>0.0</td>\n",
              "      <td>0.0</td>\n",
              "      <td>0.0</td>\n",
              "      <td>1.0</td>\n",
              "      <td>0.0</td>\n",
              "      <td>1.0</td>\n",
              "      <td>1.0</td>\n",
              "      <td>...</td>\n",
              "      <td>1.0</td>\n",
              "      <td>1.0</td>\n",
              "      <td>1.0</td>\n",
              "      <td>1.0</td>\n",
              "      <td>0.0</td>\n",
              "      <td>1.0</td>\n",
              "      <td>0.0</td>\n",
              "      <td>1.0</td>\n",
              "      <td>1.0</td>\n",
              "      <td>0.0</td>\n",
              "    </tr>\n",
              "  </tbody>\n",
              "</table>\n",
              "<p>853416 rows × 23 columns</p>\n",
              "</div>\n",
              "    <div class=\"colab-df-buttons\">\n",
              "\n",
              "  <div class=\"colab-df-container\">\n",
              "    <button class=\"colab-df-convert\" onclick=\"convertToInteractive('df-fac64c86-6a00-4f23-a97b-afb8c298185c')\"\n",
              "            title=\"Convert this dataframe to an interactive table.\"\n",
              "            style=\"display:none;\">\n",
              "\n",
              "  <svg xmlns=\"http://www.w3.org/2000/svg\" height=\"24px\" viewBox=\"0 -960 960 960\">\n",
              "    <path d=\"M120-120v-720h720v720H120Zm60-500h600v-160H180v160Zm220 220h160v-160H400v160Zm0 220h160v-160H400v160ZM180-400h160v-160H180v160Zm440 0h160v-160H620v160ZM180-180h160v-160H180v160Zm440 0h160v-160H620v160Z\"/>\n",
              "  </svg>\n",
              "    </button>\n",
              "\n",
              "  <style>\n",
              "    .colab-df-container {\n",
              "      display:flex;\n",
              "      gap: 12px;\n",
              "    }\n",
              "\n",
              "    .colab-df-convert {\n",
              "      background-color: #E8F0FE;\n",
              "      border: none;\n",
              "      border-radius: 50%;\n",
              "      cursor: pointer;\n",
              "      display: none;\n",
              "      fill: #1967D2;\n",
              "      height: 32px;\n",
              "      padding: 0 0 0 0;\n",
              "      width: 32px;\n",
              "    }\n",
              "\n",
              "    .colab-df-convert:hover {\n",
              "      background-color: #E2EBFA;\n",
              "      box-shadow: 0px 1px 2px rgba(60, 64, 67, 0.3), 0px 1px 3px 1px rgba(60, 64, 67, 0.15);\n",
              "      fill: #174EA6;\n",
              "    }\n",
              "\n",
              "    .colab-df-buttons div {\n",
              "      margin-bottom: 4px;\n",
              "    }\n",
              "\n",
              "    [theme=dark] .colab-df-convert {\n",
              "      background-color: #3B4455;\n",
              "      fill: #D2E3FC;\n",
              "    }\n",
              "\n",
              "    [theme=dark] .colab-df-convert:hover {\n",
              "      background-color: #434B5C;\n",
              "      box-shadow: 0px 1px 3px 1px rgba(0, 0, 0, 0.15);\n",
              "      filter: drop-shadow(0px 1px 2px rgba(0, 0, 0, 0.3));\n",
              "      fill: #FFFFFF;\n",
              "    }\n",
              "  </style>\n",
              "\n",
              "    <script>\n",
              "      const buttonEl =\n",
              "        document.querySelector('#df-fac64c86-6a00-4f23-a97b-afb8c298185c button.colab-df-convert');\n",
              "      buttonEl.style.display =\n",
              "        google.colab.kernel.accessAllowed ? 'block' : 'none';\n",
              "\n",
              "      async function convertToInteractive(key) {\n",
              "        const element = document.querySelector('#df-fac64c86-6a00-4f23-a97b-afb8c298185c');\n",
              "        const dataTable =\n",
              "          await google.colab.kernel.invokeFunction('convertToInteractive',\n",
              "                                                    [key], {});\n",
              "        if (!dataTable) return;\n",
              "\n",
              "        const docLinkHtml = 'Like what you see? Visit the ' +\n",
              "          '<a target=\"_blank\" href=https://colab.research.google.com/notebooks/data_table.ipynb>data table notebook</a>'\n",
              "          + ' to learn more about interactive tables.';\n",
              "        element.innerHTML = '';\n",
              "        dataTable['output_type'] = 'display_data';\n",
              "        await google.colab.output.renderOutput(dataTable, element);\n",
              "        const docLink = document.createElement('div');\n",
              "        docLink.innerHTML = docLinkHtml;\n",
              "        element.appendChild(docLink);\n",
              "      }\n",
              "    </script>\n",
              "  </div>\n",
              "\n",
              "\n",
              "<div id=\"df-2f1fca53-26ce-4931-bbda-d23bb366916f\">\n",
              "  <button class=\"colab-df-quickchart\" onclick=\"quickchart('df-2f1fca53-26ce-4931-bbda-d23bb366916f')\"\n",
              "            title=\"Suggest charts.\"\n",
              "            style=\"display:none;\">\n",
              "\n",
              "<svg xmlns=\"http://www.w3.org/2000/svg\" height=\"24px\"viewBox=\"0 0 24 24\"\n",
              "     width=\"24px\">\n",
              "    <g>\n",
              "        <path d=\"M19 3H5c-1.1 0-2 .9-2 2v14c0 1.1.9 2 2 2h14c1.1 0 2-.9 2-2V5c0-1.1-.9-2-2-2zM9 17H7v-7h2v7zm4 0h-2V7h2v10zm4 0h-2v-4h2v4z\"/>\n",
              "    </g>\n",
              "</svg>\n",
              "  </button>\n",
              "\n",
              "<style>\n",
              "  .colab-df-quickchart {\n",
              "      --bg-color: #E8F0FE;\n",
              "      --fill-color: #1967D2;\n",
              "      --hover-bg-color: #E2EBFA;\n",
              "      --hover-fill-color: #174EA6;\n",
              "      --disabled-fill-color: #AAA;\n",
              "      --disabled-bg-color: #DDD;\n",
              "  }\n",
              "\n",
              "  [theme=dark] .colab-df-quickchart {\n",
              "      --bg-color: #3B4455;\n",
              "      --fill-color: #D2E3FC;\n",
              "      --hover-bg-color: #434B5C;\n",
              "      --hover-fill-color: #FFFFFF;\n",
              "      --disabled-bg-color: #3B4455;\n",
              "      --disabled-fill-color: #666;\n",
              "  }\n",
              "\n",
              "  .colab-df-quickchart {\n",
              "    background-color: var(--bg-color);\n",
              "    border: none;\n",
              "    border-radius: 50%;\n",
              "    cursor: pointer;\n",
              "    display: none;\n",
              "    fill: var(--fill-color);\n",
              "    height: 32px;\n",
              "    padding: 0;\n",
              "    width: 32px;\n",
              "  }\n",
              "\n",
              "  .colab-df-quickchart:hover {\n",
              "    background-color: var(--hover-bg-color);\n",
              "    box-shadow: 0 1px 2px rgba(60, 64, 67, 0.3), 0 1px 3px 1px rgba(60, 64, 67, 0.15);\n",
              "    fill: var(--button-hover-fill-color);\n",
              "  }\n",
              "\n",
              "  .colab-df-quickchart-complete:disabled,\n",
              "  .colab-df-quickchart-complete:disabled:hover {\n",
              "    background-color: var(--disabled-bg-color);\n",
              "    fill: var(--disabled-fill-color);\n",
              "    box-shadow: none;\n",
              "  }\n",
              "\n",
              "  .colab-df-spinner {\n",
              "    border: 2px solid var(--fill-color);\n",
              "    border-color: transparent;\n",
              "    border-bottom-color: var(--fill-color);\n",
              "    animation:\n",
              "      spin 1s steps(1) infinite;\n",
              "  }\n",
              "\n",
              "  @keyframes spin {\n",
              "    0% {\n",
              "      border-color: transparent;\n",
              "      border-bottom-color: var(--fill-color);\n",
              "      border-left-color: var(--fill-color);\n",
              "    }\n",
              "    20% {\n",
              "      border-color: transparent;\n",
              "      border-left-color: var(--fill-color);\n",
              "      border-top-color: var(--fill-color);\n",
              "    }\n",
              "    30% {\n",
              "      border-color: transparent;\n",
              "      border-left-color: var(--fill-color);\n",
              "      border-top-color: var(--fill-color);\n",
              "      border-right-color: var(--fill-color);\n",
              "    }\n",
              "    40% {\n",
              "      border-color: transparent;\n",
              "      border-right-color: var(--fill-color);\n",
              "      border-top-color: var(--fill-color);\n",
              "    }\n",
              "    60% {\n",
              "      border-color: transparent;\n",
              "      border-right-color: var(--fill-color);\n",
              "    }\n",
              "    80% {\n",
              "      border-color: transparent;\n",
              "      border-right-color: var(--fill-color);\n",
              "      border-bottom-color: var(--fill-color);\n",
              "    }\n",
              "    90% {\n",
              "      border-color: transparent;\n",
              "      border-bottom-color: var(--fill-color);\n",
              "    }\n",
              "  }\n",
              "</style>\n",
              "\n",
              "  <script>\n",
              "    async function quickchart(key) {\n",
              "      const quickchartButtonEl =\n",
              "        document.querySelector('#' + key + ' button');\n",
              "      quickchartButtonEl.disabled = true;  // To prevent multiple clicks.\n",
              "      quickchartButtonEl.classList.add('colab-df-spinner');\n",
              "      try {\n",
              "        const charts = await google.colab.kernel.invokeFunction(\n",
              "            'suggestCharts', [key], {});\n",
              "      } catch (error) {\n",
              "        console.error('Error during call to suggestCharts:', error);\n",
              "      }\n",
              "      quickchartButtonEl.classList.remove('colab-df-spinner');\n",
              "      quickchartButtonEl.classList.add('colab-df-quickchart-complete');\n",
              "    }\n",
              "    (() => {\n",
              "      let quickchartButtonEl =\n",
              "        document.querySelector('#df-2f1fca53-26ce-4931-bbda-d23bb366916f button');\n",
              "      quickchartButtonEl.style.display =\n",
              "        google.colab.kernel.accessAllowed ? 'block' : 'none';\n",
              "    })();\n",
              "  </script>\n",
              "</div>\n",
              "    </div>\n",
              "  </div>\n"
            ]
          },
          "metadata": {},
          "execution_count": 30
        }
      ]
    },
    {
      "cell_type": "code",
      "source": [
        "X_train.reset_index(inplace=True, drop=True)\n",
        "X_test.reset_index(inplace=True, drop=True)\n",
        "y_train.reset_index(inplace=True, drop=True)\n",
        "y_test.reset_index(inplace=True, drop=True)"
      ],
      "metadata": {
        "id": "X5BfDjkY_Ife"
      },
      "id": "X5BfDjkY_Ife",
      "execution_count": null,
      "outputs": []
    },
    {
      "cell_type": "markdown",
      "source": [
        "# Regresión Logística"
      ],
      "metadata": {
        "id": "movOiAuW1YVY"
      },
      "id": "movOiAuW1YVY"
    },
    {
      "cell_type": "markdown",
      "source": [
        "## Primer modelo\n",
        "Se utilizan todas las variables y vemos coeficientes y  performance."
      ],
      "metadata": {
        "id": "FjMVpNbGOeKO"
      },
      "id": "FjMVpNbGOeKO"
    },
    {
      "cell_type": "code",
      "source": [
        "X_train_const = sm.add_constant(X_train_pp)\n",
        "\n",
        "logit_model = sm.Logit(y_train, X_train_const)\n",
        "\n",
        "logit_result = logit_model.fit()\n",
        "std_errors = logit_result.bse"
      ],
      "metadata": {
        "id": "IZzh0wPF7hAQ"
      },
      "id": "IZzh0wPF7hAQ",
      "execution_count": null,
      "outputs": []
    },
    {
      "cell_type": "code",
      "source": [
        "logit_result.summary()"
      ],
      "metadata": {
        "id": "I55PYsrYBvDJ"
      },
      "id": "I55PYsrYBvDJ",
      "execution_count": null,
      "outputs": []
    },
    {
      "cell_type": "code",
      "source": [
        "model = LogisticRegression(penalty='none', fit_intercept=True).fit(X = X_train_pp, y = y_train)\n",
        "\n",
        "#esto lo usamos para ver que los coeficientes fueran los mismos y sí\n",
        "#coeficientes_df = pd.DataFrame({'Variable': X_train_pp.columns, 'Coeficiente': model.coef_.flatten()})"
      ],
      "metadata": {
        "id": "i_9HVj1MKQd9"
      },
      "id": "i_9HVj1MKQd9",
      "execution_count": null,
      "outputs": []
    },
    {
      "cell_type": "code",
      "execution_count": null,
      "id": "9f64378b-7e76-4669-8504-c615fc61d244",
      "metadata": {
        "id": "9f64378b-7e76-4669-8504-c615fc61d244"
      },
      "outputs": [],
      "source": [
        "# Evaluacion - matriz de confusion\n",
        "display(pd.DataFrame(confusion_matrix(y_train,model.predict(X_train_pp))))"
      ]
    },
    {
      "cell_type": "code",
      "source": [
        "model_prediction = model.predict(X_train_pp)\n",
        "\n",
        "eval_metrics(y_train,model_prediction)"
      ],
      "metadata": {
        "id": "X96TDoMbMNEv"
      },
      "id": "X96TDoMbMNEv",
      "execution_count": null,
      "outputs": []
    },
    {
      "cell_type": "markdown",
      "source": [
        "## Segundo modelo\n",
        "Quitando 'one__v_ENTIDAD_NAC_zona_metropolitana', 'one__v_TABAQUISMO_2.0', ya que en el anterior modelo no son significativas de acuerdo al P-value obtenido (mayor a 0.05)"
      ],
      "metadata": {
        "id": "WHp1qXm8OkZI"
      },
      "id": "WHp1qXm8OkZI"
    },
    {
      "cell_type": "code",
      "source": [
        "X_train_m2 = X_train_pp.drop(['one__v_ENTIDAD_NAC_zona_metropolitana', 'one__v_TABAQUISMO_2.0'], axis=1)"
      ],
      "metadata": {
        "id": "ZM3QZBr7-37Z"
      },
      "id": "ZM3QZBr7-37Z",
      "execution_count": null,
      "outputs": []
    },
    {
      "cell_type": "code",
      "source": [
        "model2 = LogisticRegression(penalty='none', fit_intercept=True).fit(X = X_train_m2, y = y_train)"
      ],
      "metadata": {
        "id": "TudaSMKG-3n1"
      },
      "id": "TudaSMKG-3n1",
      "execution_count": null,
      "outputs": []
    },
    {
      "cell_type": "markdown",
      "source": [
        "### Train\n",
        "\n",
        "Evaluamos el conjunto train"
      ],
      "metadata": {
        "id": "xKzZmdWGVQqC"
      },
      "id": "xKzZmdWGVQqC"
    },
    {
      "cell_type": "code",
      "source": [
        "model_prediction2 = model2.predict(X_train_m2)\n",
        "display(pd.DataFrame(confusion_matrix(y_train,model_prediction2)))"
      ],
      "metadata": {
        "id": "DWPJFC8X-2Mk"
      },
      "id": "DWPJFC8X-2Mk",
      "execution_count": null,
      "outputs": []
    },
    {
      "cell_type": "code",
      "source": [
        "eval_metrics(y_train,model_prediction2)"
      ],
      "metadata": {
        "id": "zlGgLawGs5oz"
      },
      "id": "zlGgLawGs5oz",
      "execution_count": null,
      "outputs": []
    },
    {
      "cell_type": "markdown",
      "source": [
        "Calculamos la precisión con Cross Validation para el conjunto train. Se elige la precisión como la métrica que nos interesa en este procedimiento, debido a que se tiene un dataset desbalanceado."
      ],
      "metadata": {
        "id": "K21wm5lBUZb9"
      },
      "id": "K21wm5lBUZb9"
    },
    {
      "cell_type": "code",
      "source": [
        "rkf = RepeatedKFold(n_splits=5, n_repeats=3, random_state=42)\n",
        "scores_rkf = cross_val_score(model2, X_train_m2, y_train, cv=rkf, scoring='precision')\n",
        "\n",
        "print(f\"Scores con RepeatedKFold: {scores_rkf}\")\n",
        "print(f\"Promedio de Scores con RepeatedKFold: {np.mean(scores_rkf)}\")\n",
        "print(f\"Desviación estándar de Scores con RepeatedKFold: {np.std(scores_rkf)}\")"
      ],
      "metadata": {
        "id": "dxca9pJMtmjS"
      },
      "id": "dxca9pJMtmjS",
      "execution_count": null,
      "outputs": []
    },
    {
      "cell_type": "markdown",
      "source": [
        "### Test\n",
        "Evaluamos para el conjunto Test.Se elige la precisión como la métrica que nos interesa en este procedimiento, debido a que se tiene un dataset desbalanceado.\n",
        "\n",
        "Como resultado se obtiene que las métricas son ligeramente mejores que para el Train (por algunas centésimas para todas las métricas)."
      ],
      "metadata": {
        "id": "bfyCOLVXVSWs"
      },
      "id": "bfyCOLVXVSWs"
    },
    {
      "cell_type": "code",
      "source": [
        "X_test_m2 = X_test_pp.drop(['one__v_ENTIDAD_NAC_zona_metropolitana', 'one__v_TABAQUISMO_2.0'], axis=1)"
      ],
      "metadata": {
        "id": "lTygNFusvhmX"
      },
      "id": "lTygNFusvhmX",
      "execution_count": null,
      "outputs": []
    },
    {
      "cell_type": "code",
      "source": [
        "model_prediction2_test = model2.predict(X_test_m2)\n",
        "\n",
        "# Matriz de confusion\n",
        "display(pd.DataFrame(confusion_matrix(y_test,model_prediction2_test)))"
      ],
      "metadata": {
        "id": "b2kzN2BMR_ha"
      },
      "id": "b2kzN2BMR_ha",
      "execution_count": null,
      "outputs": []
    },
    {
      "cell_type": "code",
      "source": [
        "eval_metrics(y_test,model_prediction2_test)"
      ],
      "metadata": {
        "id": "Ng_Gh6OwV0mu"
      },
      "id": "Ng_Gh6OwV0mu",
      "execution_count": null,
      "outputs": []
    },
    {
      "cell_type": "code",
      "source": [
        "rkf = RepeatedKFold(n_splits=5, n_repeats=3, random_state=42)\n",
        "scores_rkf = cross_val_score(model2, X_test_m2, y_test, cv=rkf, scoring='precision')\n",
        "\n",
        "print(f\"Scores con RepeatedKFold: {scores_rkf}\")\n",
        "print(f\"Promedio de Scores con RepeatedKFold: {np.mean(scores_rkf)}\")\n",
        "print(f\"Desviación estándar de Scores con RepeatedKFold: {np.std(scores_rkf)}\")"
      ],
      "metadata": {
        "id": "FIXhNwN3tLJC"
      },
      "id": "FIXhNwN3tLJC",
      "execution_count": null,
      "outputs": []
    },
    {
      "cell_type": "markdown",
      "source": [
        "## Undersampling\n",
        "\n",
        "Debido al posible underfitting de arriba, se entrena un modelo de regresión logística con todos los datos donde las personas fueron hospitalizadas y 80,000 donde no lo fueron, ya que el modelo está recibiendo muy poca información de los primeros (pues se tiene un desbalance notable). Se eligen más observaciones de la clase \"no hospitalizados\", para mantener que la mayoría de los datos están en esa clase.\n",
        "\n",
        "El modelo generado se evalúa en los mismos conjuntos train y test de arriba. Se obtiene un mejor performance y se elimina el underfitting para las evaluaciones en dichos conjuntos, pero si se realiza el una Validación Cruzada, el performance se mantiene y persiste el pequeño underfitting."
      ],
      "metadata": {
        "id": "s_krm_j2n5Lg"
      },
      "id": "s_krm_j2n5Lg"
    },
    {
      "cell_type": "code",
      "source": [
        "under = RandomUnderSampler(random_state=0, sampling_strategy={0:66075 , 1: 80000})\n",
        "\n",
        "X_res, y_res = under.fit_resample(X_train_m2, y_train)"
      ],
      "metadata": {
        "id": "q8gTivekuUZJ"
      },
      "id": "q8gTivekuUZJ",
      "execution_count": null,
      "outputs": []
    },
    {
      "cell_type": "code",
      "source": [
        "y_res.value_counts(1)"
      ],
      "metadata": {
        "id": "80P1kr7xprY4",
        "colab": {
          "base_uri": "https://localhost:8080/"
        },
        "outputId": "23bae697-0e0a-4ac5-b296-dc3e80408889"
      },
      "id": "80P1kr7xprY4",
      "execution_count": null,
      "outputs": [
        {
          "output_type": "execute_result",
          "data": {
            "text/plain": [
              "1    0.547664\n",
              "0    0.452336\n",
              "Name: tgt_TIPO_PACIENTE, dtype: float64"
            ]
          },
          "metadata": {},
          "execution_count": 33
        }
      ]
    },
    {
      "cell_type": "code",
      "source": [
        "model_s = LogisticRegression(penalty='none', fit_intercept=True).fit(X = X_res, y = y_res)"
      ],
      "metadata": {
        "id": "aPRjXIxAqvB0"
      },
      "id": "aPRjXIxAqvB0",
      "execution_count": null,
      "outputs": []
    },
    {
      "cell_type": "markdown",
      "source": [
        "### Train"
      ],
      "metadata": {
        "id": "JpbyRLUZsviE"
      },
      "id": "JpbyRLUZsviE"
    },
    {
      "cell_type": "code",
      "source": [
        "model_prediction_s = model_s.predict(X_train_m2)\n",
        "display(pd.DataFrame(confusion_matrix(y_train,model_prediction_s)))"
      ],
      "metadata": {
        "id": "G6K-HMsQsyfr"
      },
      "execution_count": null,
      "outputs": [],
      "id": "G6K-HMsQsyfr"
    },
    {
      "cell_type": "code",
      "source": [
        "eval_metrics(y_train,model_prediction_s)"
      ],
      "metadata": {
        "id": "MCf7kAz9Dt7Q"
      },
      "id": "MCf7kAz9Dt7Q",
      "execution_count": null,
      "outputs": []
    },
    {
      "cell_type": "markdown",
      "source": [
        "Cross Validation\n",
        "\n",
        "Se elige la precisión como la métrica que nos interesa en este procedimiento, debido a que se tiene un dataset desbalanceado."
      ],
      "metadata": {
        "id": "fMF55Gz0XnDz"
      },
      "id": "fMF55Gz0XnDz"
    },
    {
      "cell_type": "code",
      "source": [
        "rkf3 = RepeatedKFold(n_splits=5, n_repeats=3, random_state=111)\n",
        "scores_rkf3 = cross_val_score(model_s, X_train_m2, y_train, cv=rkf3, scoring='precision')\n",
        "\n",
        "print(f\"Scores con RepeatedKFold: {scores_rkf3}\")\n",
        "print(f\"Promedio de Scores con RepeatedKFold: {np.mean(scores_rkf3)}\")\n",
        "print(f\"Desviación estándar de Scores con RepeatedKFold: {np.std(scores_rkf3)}\")"
      ],
      "metadata": {
        "id": "M3IveQFhXmxY"
      },
      "id": "M3IveQFhXmxY",
      "execution_count": null,
      "outputs": []
    },
    {
      "cell_type": "markdown",
      "source": [],
      "metadata": {
        "id": "UbA1kkHQ9OqQ"
      },
      "id": "UbA1kkHQ9OqQ"
    },
    {
      "cell_type": "markdown",
      "source": [
        "### Test"
      ],
      "metadata": {
        "id": "xBB77FNZtt0O"
      },
      "id": "xBB77FNZtt0O"
    },
    {
      "cell_type": "code",
      "source": [
        "model_s_prediction_test = model_s.predict(X_test_m2)\n",
        "\n",
        "# Matriz de confusion\n",
        "display(pd.DataFrame(confusion_matrix(y_test,model_s_prediction_test)))"
      ],
      "metadata": {
        "id": "kRn31OUDti1f"
      },
      "id": "kRn31OUDti1f",
      "execution_count": null,
      "outputs": []
    },
    {
      "cell_type": "code",
      "source": [
        "eval_metrics(y_test, model_pred=model_s_prediction_test)"
      ],
      "metadata": {
        "id": "kSWpJ05zwFMr"
      },
      "id": "kSWpJ05zwFMr",
      "execution_count": null,
      "outputs": []
    },
    {
      "cell_type": "markdown",
      "source": [
        "Cross Validation\n",
        "\n",
        "Se elige la precisión como la métrica que nos interesa en este procedimiento, debido a que se tiene un dataset desbalanceado."
      ],
      "metadata": {
        "id": "qI8RQUU4Yx-5"
      },
      "id": "qI8RQUU4Yx-5"
    },
    {
      "cell_type": "code",
      "source": [
        "rkf4 = RepeatedKFold(n_splits=5, n_repeats=3, random_state=111)\n",
        "scores_rkf4 = cross_val_score(model_s, X_test_m2, y_test, cv=rkf4, scoring='precision')\n",
        "\n",
        "print(f\"Scores con RepeatedKFold: {scores_rkf4}\")\n",
        "print(f\"Promedio de Scores con RepeatedKFold: {np.mean(scores_rkf4)}\")\n",
        "print(f\"Desviación estándar de Scores con RepeatedKFold: {np.std(scores_rkf4)}\")"
      ],
      "metadata": {
        "id": "JKGMeTizwshT"
      },
      "id": "JKGMeTizwshT",
      "execution_count": null,
      "outputs": []
    },
    {
      "cell_type": "code",
      "source": [
        "pd.to_pickle((preprocesado2,lr3),'./01_Models/model_lr3.pkl')\n",
        "\n",
        "filename = 'regression_logistica_model.pkl'\n",
        "pickle.dump(model1_lars, open(filename, 'wb'))"
      ],
      "metadata": {
        "id": "OpwNGJ03YMUM"
      },
      "id": "OpwNGJ03YMUM",
      "execution_count": null,
      "outputs": []
    }
  ],
  "metadata": {
    "kernelspec": {
      "display_name": "Python 3 (ipykernel)",
      "language": "python",
      "name": "python3"
    },
    "language_info": {
      "codemirror_mode": {
        "name": "ipython",
        "version": 3
      },
      "file_extension": ".py",
      "mimetype": "text/x-python",
      "name": "python",
      "nbconvert_exporter": "python",
      "pygments_lexer": "ipython3",
      "version": "3.11.2"
    },
    "colab": {
      "provenance": [],
      "toc_visible": true
    }
  },
  "nbformat": 4,
  "nbformat_minor": 5
}